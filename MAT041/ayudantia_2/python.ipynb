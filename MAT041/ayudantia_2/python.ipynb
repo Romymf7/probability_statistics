{
 "cells": [
  {
   "cell_type": "code",
   "execution_count": 1,
   "metadata": {},
   "outputs": [],
   "source": [
    "import numpy as np\n",
    "import matplotlib.pyplot as plt\n",
    "import matplotlib.mlab as mlab\n",
    "import pandas as pd\n",
    "import seaborn as sns\n",
    "import scipy.stats as sp"
   ]
  },
  {
   "cell_type": "markdown",
   "metadata": {},
   "source": [
    "### Pregunta 1"
   ]
  },
  {
   "cell_type": "code",
   "execution_count": 2,
   "metadata": {},
   "outputs": [],
   "source": [
    "Ramy_mc=[73.5,123.5,173.5,223.5,273.5]\n",
    "Ramy_ni=[5,20,50,20,5]\n",
    "FA_144_mc=Ramy_mc\n",
    "FA_144_ni=[10,17,31,50,12]"
   ]
  },
  {
   "cell_type": "code",
   "execution_count": 3,
   "metadata": {},
   "outputs": [],
   "source": [
    "Ramy=[]\n",
    "FA_144=[]\n",
    "for i in range(0,len(Ramy_mc)):\n",
    "    for j in range(0,Ramy_ni[i]):\n",
    "        Ramy.append(Ramy_mc[i])\n",
    "for i in range(0,len(Ramy_mc)):\n",
    "    for j in range(0,FA_144_ni[i]):\n",
    "        FA_144.append(FA_144_mc[i])\n",
    "intervalos=[]\n",
    "for i in range(0,len(Ramy_mc)):\n",
    "    if Ramy_mc[i]-25 not in intervalos:\n",
    "        intervalos.append(Ramy_mc[i]-25)\n",
    "    if Ramy_mc[i]+25 not in intervalos:\n",
    "        intervalos.append(Ramy_mc[i]+25)"
   ]
  },
  {
   "cell_type": "code",
   "execution_count": 4,
   "metadata": {},
   "outputs": [
    {
     "data": {
      "image/png": "[encoded data removed]",
      "text/plain": [
       "<Figure size 864x288 with 2 Axes>"
      ]
     },
     "metadata": {
      "needs_background": "light"
     },
     "output_type": "display_data"
    }
   ],
   "source": [
    "\n",
    "fig, ax = plt.subplots(1,2,figsize=(12,4))\n",
    "ax[0].hist(Ramy,bins=intervalos,color='y')\n",
    "ax[0].legend('r',fontsize='x-large')\n",
    "ax[1].hist(FA_144,bins=intervalos,color='m',label='FA 144')\n",
    "ax[1].legend('f',fontsize='x-large')\n",
    "plt.show()"
   ]
  },
  {
   "cell_type": "code",
   "execution_count": 5,
   "metadata": {},
   "outputs": [
    {
     "name": "stdout",
     "output_type": "stream",
     "text": [
      "El promedio de peso del tomate Ramy es de 173.5 [grm]\n",
      "El promedio de peso del tomate FA 144 es de 188.91666666666666 [grm]\n",
      "La varianza de peso del tomate Ramy es de 2000.0000000000002 [grm]^2\n",
      "La varianza de peso del tomate FA 144 es de 2991.4930555555557 [grm]^2\n",
      "El CV del tomate Ramy es 0.25775999740631583\n",
      "El CV del tomate Ramy es 0.28951677034272966\n"
     ]
    }
   ],
   "source": [
    "print('El promedio de peso del tomate Ramy es de', np.mean(Ramy), '[grm]')\n",
    "print('El promedio de peso del tomate FA 144 es de', np.mean(FA_144), '[grm]')\n",
    "print('La varianza de peso del tomate Ramy es de', np.std(Ramy)**2, '[grm]^2')\n",
    "print('La varianza de peso del tomate FA 144 es de', np.std(FA_144)**2, '[grm]^2')\n",
    "print('El CV del tomate Ramy es',np.std(Ramy)/np.mean(Ramy))\n",
    "print('El CV del tomate Ramy es',np.std(FA_144)/np.mean(FA_144))"
   ]
  },
  {
   "cell_type": "markdown",
   "metadata": {},
   "source": [
    "### Pregunta 2"
   ]
  },
  {
   "cell_type": "code",
   "execution_count": 6,
   "metadata": {},
   "outputs": [
    {
     "data": {
      "text/plain": [
       "array([ 9.2,  9.5,  9.8, 10.1, 10.4, 10.7, 11. , 11.3])"
      ]
     },
     "execution_count": 6,
     "metadata": {},
     "output_type": "execute_result"
    }
   ],
   "source": [
    "A=[9.8 ,10.2 ,10.1 ,9.7 ,8.8 ,10.7 ,11.1]\n",
    "B=[10.1 ,10.1, 9.6 ,9.9 ,10.9 ,9.7]\n",
    "C=[9.7, 9.5, 10.3, 8.9, 10.6, 10.4, 9.8, 11.0, 9.2 ]\n",
    "intervalo=np.arange(9.2,11.3,.3)\n",
    "intervalo"
   ]
  },
  {
   "cell_type": "code",
   "execution_count": 7,
   "metadata": {},
   "outputs": [
    {
     "data": {
      "image/png": "[encoded data removed]",
      "text/plain": [
       "<Figure size 1296x288 with 3 Axes>"
      ]
     },
     "metadata": {
      "needs_background": "light"
     },
     "output_type": "display_data"
    }
   ],
   "source": [
    "\n",
    "fig, ax = plt.subplots(1,3,figsize=(18,4))\n",
    "ax[0].hist(A,bins=intervalo,color='y')\n",
    "ax[0].legend('A',fontsize='x-large')\n",
    "ax[1].hist(B,bins=intervalo,color='m')\n",
    "ax[1].legend('B',fontsize='x-large')\n",
    "ax[2].hist(C,bins=intervalo,color='b')\n",
    "ax[2].legend('C',fontsize='x-large')\n",
    "plt.show()"
   ]
  },
  {
   "cell_type": "code",
   "execution_count": 8,
   "metadata": {},
   "outputs": [
    {
     "name": "stdout",
     "output_type": "stream",
     "text": [
      "DescribeResult(nobs=7, minmax=(8.8, 11.1), mean=10.057142857142855, variance=0.549523809523809, skewness=-0.28571396370924274, kurtosis=-0.5065982536817191)\n",
      "DescribeResult(nobs=6, minmax=(9.6, 10.9), mean=10.049999999999999, variance=0.21500000000000025, skewness=1.0482896739545398, kurtosis=0.003764196863178082)\n",
      "DescribeResult(nobs=9, minmax=(8.9, 11.0), mean=9.933333333333334, variance=0.4750000000000001, skewness=0.02699943031802926, kurtosis=-1.1143213296398902)\n"
     ]
    }
   ],
   "source": [
    "print(sp.describe(A))\n",
    "print(sp.describe(B))\n",
    "print(sp.describe(C))"
   ]
  },
  {
   "cell_type": "code",
   "execution_count": 9,
   "metadata": {},
   "outputs": [
    {
     "name": "stdout",
     "output_type": "stream",
     "text": [
      "0.6863092656836747 10.057142857142855\n",
      "0.4232808366400101 10.049999999999999\n",
      "0.6497862896539309 9.933333333333334\n"
     ]
    }
   ],
   "source": [
    "print(np.std(A),np.mean(A))\n",
    "print(np.std(B),np.mean(B))\n",
    "print(np.std(C),np.mean(C))"
   ]
  },
  {
   "cell_type": "code",
   "execution_count": 10,
   "metadata": {},
   "outputs": [
    {
     "name": "stdout",
     "output_type": "stream",
     "text": [
      "0.0682409781219563\n",
      "0.042117496183085586\n",
      "0.06541472714636888\n"
     ]
    }
   ],
   "source": [
    "print(np.std(A)/np.mean(A))\n",
    "print(np.std(B)/np.mean(B))\n",
    "print(np.std(C)/np.mean(C))"
   ]
  },
  {
   "cell_type": "markdown",
   "metadata": {},
   "source": [
    "### Pregunta 3"
   ]
  },
  {
   "cell_type": "code",
   "execution_count": 11,
   "metadata": {},
   "outputs": [],
   "source": [
    "S=[578,755,840,690,1015,1210,1350,670,1610,1550]\n",
    "I=[450,610,790,750,1210,1150,1450,705,1350,1450]"
   ]
  },
  {
   "cell_type": "code",
   "execution_count": 12,
   "metadata": {},
   "outputs": [
    {
     "name": "stdout",
     "output_type": "stream",
     "text": [
      "130295.15999999999 1026.8\n",
      "124160.24999999999 991.5\n"
     ]
    }
   ],
   "source": [
    "print(np.std(S)**2,np.mean(S))\n",
    "print(np.std(I)**2,np.mean(I))"
   ]
  },
  {
   "cell_type": "code",
   "execution_count": 13,
   "metadata": {},
   "outputs": [
    {
     "data": {
      "text/plain": [
       "array([[1.        , 0.93680418],\n",
       "       [0.93680418, 1.        ]])"
      ]
     },
     "execution_count": 13,
     "metadata": {},
     "output_type": "execute_result"
    }
   ],
   "source": [
    "np.corrcoef(S, I)"
   ]
  },
  {
   "cell_type": "code",
   "execution_count": 14,
   "metadata": {},
   "outputs": [
    {
     "data": {
      "text/plain": [
       "<matplotlib.collections.PathCollection at 0x7f5e9cf261d0>"
      ]
     },
     "execution_count": 14,
     "metadata": {},
     "output_type": "execute_result"
    },
    {
     "data": {
      "image/png": "[encoded data removed]",
      "text/plain": [
       "<Figure size 432x288 with 1 Axes>"
      ]
     },
     "metadata": {
      "needs_background": "light"
     },
     "output_type": "display_data"
    }
   ],
   "source": [
    "plt.scatter(S,I)"
   ]
  },
  {
   "cell_type": "code",
   "execution_count": 15,
   "metadata": {},
   "outputs": [],
   "source": [
    "def reg(x,y):\n",
    "    modelo=[]\n",
    "    residuos=[]\n",
    "    for i in range(0,len(x)):\n",
    "        modelo.append(x[i]*0.96+48.82)\n",
    "    for i in range(0,len(x)):\n",
    "        residuos.append(y[i]-modelo[i])\n",
    "    return residuos"
   ]
  },
  {
   "cell_type": "code",
   "execution_count": 16,
   "metadata": {},
   "outputs": [],
   "source": [
    "#covarianza para un array de nxm\n",
    "\n",
    "tabla_bivariada=[[1,2,2,3],[1,3,4,5],[2,3,6,9],[5,6,8,8],[5,8,9,6]]"
   ]
  },
  {
   "cell_type": "markdown",
   "metadata": {},
   "source": [
    "### Pregunta 4"
   ]
  },
  {
   "cell_type": "code",
   "execution_count": 17,
   "metadata": {},
   "outputs": [
    {
     "name": "stdout",
     "output_type": "stream",
     "text": [
      "1500.0 2785\n",
      "-2.01171875\n"
     ]
    }
   ],
   "source": [
    "Y=[20,25,30,35]\n",
    "X=[10.5,12.5,14.5,16.5,18.5]\n",
    "n=0\n",
    "suma=0\n",
    "promX=0\n",
    "promY=0\n",
    "for i in range(0,len(X)):\n",
    "    for j in range(0,len(Y)):\n",
    "        n+=tabla_bivariada[i][j]\n",
    "        promX+=tabla_bivariada[i][j]*X[i]\n",
    "        promY+=tabla_bivariada[i][j]*Y[j]\n",
    "        suma+=tabla_bivariada[i][j]*X[i]*Y[j]\n",
    "print(promX,promY)\n",
    "promX=promX/n\n",
    "promY=promY/n\n",
    "cov=suma/n -promX*promY\n",
    "print(cov)"
   ]
  },
  {
   "cell_type": "code",
   "execution_count": 24,
   "metadata": {},
   "outputs": [
    {
     "name": "stdout",
     "output_type": "stream",
     "text": [
      "6.401041666666657\n"
     ]
    }
   ],
   "source": [
    "s2_x=0\n",
    "for i in range(0,len(X)):\n",
    "    s2_x+= (X[i]**2)*sum(tabla_bivariada[i])\n",
    "s2_x=s2_x/n-promX**2\n",
    "print(s2_x)"
   ]
  },
  {
   "cell_type": "code",
   "execution_count": 27,
   "metadata": {},
   "outputs": [
    {
     "name": "stdout",
     "output_type": "stream",
     "text": [
      "-0.3142799023596424 33.92104014103608\n"
     ]
    }
   ],
   "source": [
    "beta_1=cov/s2_x\n",
    "beta_0=promY-beta_1*promX\n",
    "print(beta_1,beta_0)"
   ]
  }
 ],
 "metadata": {
  "kernelspec": {
   "display_name": "Python 3",
   "language": "python",
   "name": "python3"
  },
  "language_info": {
   "codemirror_mode": {
    "name": "ipython",
    "version": 3
   },
   "file_extension": ".py",
   "mimetype": "text/x-python",
   "name": "python",
   "nbconvert_exporter": "python",
   "pygments_lexer": "ipython3",
   "version": "3.7.6"
  }
 },
 "nbformat": 4,
 "nbformat_minor": 4
}
