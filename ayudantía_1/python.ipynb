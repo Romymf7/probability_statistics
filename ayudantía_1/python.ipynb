{
 "cells": [
  {
   "cell_type": "markdown",
   "metadata": {},
   "source": [
    "# *Ayudantia 1*"
   ]
  },
  {
   "cell_type": "code",
   "execution_count": 1,
   "metadata": {},
   "outputs": [],
   "source": [
    "import numpy as np\n",
    "import matplotlib.pyplot as plt\n",
    "import matplotlib.mlab as mlab\n",
    "import pandas as pd\n",
    "import seaborn as sns\n",
    "import scipy.stats as sp"
   ]
  },
  {
   "cell_type": "markdown",
   "metadata": {},
   "source": [
    "## **Pregunta 3**"
   ]
  },
  {
   "cell_type": "markdown",
   "metadata": {},
   "source": [
    "### Se realiza un estudio acerca de los efectos del tabaquismo sobre los patrones de sueño. La medición que se observa es el tiempo, en minutos, que toma quedar dormido. Se obtienen los siguientes datos:"
   ]
  },
  {
   "cell_type": "code",
   "execution_count": 2,
   "metadata": {},
   "outputs": [],
   "source": [
    "fumadores=[69.3,56,22.1,47.6,53.2,48.1,52.7,34.4,60.2,43.8,23.2,13.8]\n",
    "no_fumadores=[28.6,25.1,26.4,34.9,29.8,28.4,38.5,30.2,30.6,31.8,41.6,21.1,36.0,37.9,13.9]"
   ]
  },
  {
   "cell_type": "markdown",
   "metadata": {},
   "source": [
    "### Calcule la media de la muestra para cada grupo."
   ]
  },
  {
   "cell_type": "code",
   "execution_count": 3,
   "metadata": {},
   "outputs": [
    {
     "name": "stdout",
     "output_type": "stream",
     "text": [
      "\n",
      " 43.699999999999996 \n",
      " 30.32\n"
     ]
    }
   ],
   "source": [
    "print(\"\\n\",np.mean(fumadores),\"\\n\",np.mean(no_fumadores))"
   ]
  },
  {
   "cell_type": "markdown",
   "metadata": {},
   "source": [
    "### Calcule la desviación estándar de la muestra para cada grupo."
   ]
  },
  {
   "cell_type": "code",
   "execution_count": 4,
   "metadata": {},
   "outputs": [
    {
     "name": "stdout",
     "output_type": "stream",
     "text": [
      "\n",
      " 16.207097210790092 \n",
      " 6.8861406704578245\n"
     ]
    }
   ],
   "source": [
    "print(\"\\n\",np.std(fumadores),\"\\n\",np.std(no_fumadores))"
   ]
  },
  {
   "cell_type": "markdown",
   "metadata": {},
   "source": [
    "### Elabore una gráfica de puntos de los conjuntos de datos A y B en la misma línea."
   ]
  },
  {
   "cell_type": "code",
   "execution_count": 5,
   "metadata": {},
   "outputs": [
    {
     "data": {
      "image/png": "[encoded data removed]",
      "text/plain": [
       "<Figure size 432x288 with 1 Axes>"
      ]
     },
     "metadata": {
      "needs_background": "light"
     },
     "output_type": "display_data"
    }
   ],
   "source": [
    "y_1=[1]*len(fumadores)\n",
    "y_2=[1]*len(no_fumadores)\n",
    "fig, ax = plt.subplots()\n",
    "ax.scatter(fumadores, y_1, c='tab:red', label='fumadores',\n",
    "               alpha=1)\n",
    "ax.scatter(no_fumadores, y_2, c='tab:green',label='no fumadores',\n",
    "               alpha=1)\n",
    "ax.legend()\n",
    "plt.show()"
   ]
  },
  {
   "cell_type": "markdown",
   "metadata": {},
   "source": [
    "### Comente qué clase de efecto parece tener el hecho de fumar sobre el tiempo que se requiere para quedarse dormido."
   ]
  },
  {
   "cell_type": "markdown",
   "metadata": {},
   "source": [
    "## **Pregunta 4**"
   ]
  },
  {
   "cell_type": "markdown",
   "metadata": {},
   "source": [
    "### Las siguientes puntuaciones representan la calificación en el examen final para un curso de estadística elemental:"
   ]
  },
  {
   "cell_type": "code",
   "execution_count": 6,
   "metadata": {},
   "outputs": [],
   "source": [
    "notas=[23 , 60 , 79 , 32 , 57 , 74 , 52 ,70 , 82 , 36 ,80 , 77, 81 ,95 ,41 ,65 ,92, 85,55 ,76, 52, 10 ,64 ,75, 78 ,25, 80 , 98 ,81 ,67, 41, 71 ,83, 54 ,64, 72,  88, 62 ,74 ,43, 60, 78 ,89, 76, 84 , 48, 84 ,90, 15 ,79, 34 ,67, 17, 82 ,69 ,74, 63 ,80 ,85 ,61]"
   ]
  },
  {
   "cell_type": "markdown",
   "metadata": {},
   "source": [
    "### Elabore un diagrama de tallo y hojas para las calificaciones del examen, donde los tallos sean 1, 2,3,..., 9."
   ]
  },
  {
   "cell_type": "code",
   "execution_count": 7,
   "metadata": {},
   "outputs": [
    {
     "name": "stdout",
     "output_type": "stream",
     "text": [
      "{1: [0, 5, 7], 2: [3, 5], 3: [2, 6, 4], 4: [1, 1, 3, 8], 5: [7, 2, 5, 2, 4], 6: [0, 5, 4, 7, 4, 2, 0, 7, 9, 3, 1], 7: [9, 4, 0, 7, 6, 5, 8, 1, 2, 4, 8, 6, 9, 4], 8: [2, 0, 1, 5, 0, 1, 3, 8, 9, 4, 4, 2, 0, 5], 9: [5, 2, 8, 0]}\n"
     ]
    }
   ],
   "source": [
    "diag={}\n",
    "i=1\n",
    "while i != 10:\n",
    "    lista=[]\n",
    "    for j in notas:\n",
    "        if i*10<=j<=i*10+9:\n",
    "            lista.append(j-10*i)\n",
    "    diag[i]=lista\n",
    "    i+=1\n",
    "print(diag)"
   ]
  },
  {
   "cell_type": "code",
   "execution_count": 8,
   "metadata": {},
   "outputs": [
    {
     "data": {
      "text/html": [
       "<div>\n",
       "<style scoped>\n",
       "    .dataframe tbody tr th:only-of-type {\n",
       "        vertical-align: middle;\n",
       "    }\n",
       "\n",
       "    .dataframe tbody tr th {\n",
       "        vertical-align: top;\n",
       "    }\n",
       "\n",
       "    .dataframe thead th {\n",
       "        text-align: right;\n",
       "    }\n",
       "</style>\n",
       "<table border=\"1\" class=\"dataframe\">\n",
       "  <thead>\n",
       "    <tr style=\"text-align: right;\">\n",
       "      <th></th>\n",
       "      <th>tallo</th>\n",
       "      <th>hojas</th>\n",
       "    </tr>\n",
       "  </thead>\n",
       "  <tbody>\n",
       "    <tr>\n",
       "      <td>0</td>\n",
       "      <td>1</td>\n",
       "      <td>[0, 5, 7]</td>\n",
       "    </tr>\n",
       "    <tr>\n",
       "      <td>1</td>\n",
       "      <td>2</td>\n",
       "      <td>[3, 5]</td>\n",
       "    </tr>\n",
       "    <tr>\n",
       "      <td>2</td>\n",
       "      <td>3</td>\n",
       "      <td>[2, 6, 4]</td>\n",
       "    </tr>\n",
       "    <tr>\n",
       "      <td>3</td>\n",
       "      <td>4</td>\n",
       "      <td>[1, 1, 3, 8]</td>\n",
       "    </tr>\n",
       "    <tr>\n",
       "      <td>4</td>\n",
       "      <td>5</td>\n",
       "      <td>[7, 2, 5, 2, 4]</td>\n",
       "    </tr>\n",
       "    <tr>\n",
       "      <td>5</td>\n",
       "      <td>6</td>\n",
       "      <td>[0, 5, 4, 7, 4, 2, 0, 7, 9, 3, 1]</td>\n",
       "    </tr>\n",
       "    <tr>\n",
       "      <td>6</td>\n",
       "      <td>7</td>\n",
       "      <td>[9, 4, 0, 7, 6, 5, 8, 1, 2, 4, 8, 6, 9, 4]</td>\n",
       "    </tr>\n",
       "    <tr>\n",
       "      <td>7</td>\n",
       "      <td>8</td>\n",
       "      <td>[2, 0, 1, 5, 0, 1, 3, 8, 9, 4, 4, 2, 0, 5]</td>\n",
       "    </tr>\n",
       "    <tr>\n",
       "      <td>8</td>\n",
       "      <td>9</td>\n",
       "      <td>[5, 2, 8, 0]</td>\n",
       "    </tr>\n",
       "  </tbody>\n",
       "</table>\n",
       "</div>"
      ],
      "text/plain": [
       "   tallo                                       hojas\n",
       "0      1                                   [0, 5, 7]\n",
       "1      2                                      [3, 5]\n",
       "2      3                                   [2, 6, 4]\n",
       "3      4                                [1, 1, 3, 8]\n",
       "4      5                             [7, 2, 5, 2, 4]\n",
       "5      6           [0, 5, 4, 7, 4, 2, 0, 7, 9, 3, 1]\n",
       "6      7  [9, 4, 0, 7, 6, 5, 8, 1, 2, 4, 8, 6, 9, 4]\n",
       "7      8  [2, 0, 1, 5, 0, 1, 3, 8, 9, 4, 4, 2, 0, 5]\n",
       "8      9                                [5, 2, 8, 0]"
      ]
     },
     "execution_count": 8,
     "metadata": {},
     "output_type": "execute_result"
    }
   ],
   "source": [
    "df = pd.DataFrame([[key, diag[key]] for key in diag.keys()], columns=['tallo', 'hojas'])\n",
    "df"
   ]
  },
  {
   "cell_type": "markdown",
   "metadata": {},
   "source": [
    "### Elabore un histograma de frecuencias relativas, trace un estimado de la gráfica de la distribución y analice la asimetría de la distribución."
   ]
  },
  {
   "cell_type": "code",
   "execution_count": 9,
   "metadata": {},
   "outputs": [
    {
     "data": {
      "text/plain": [
       "<function matplotlib.pyplot.show(*args, **kw)>"
      ]
     },
     "execution_count": 9,
     "metadata": {},
     "output_type": "execute_result"
    },
    {
     "data": {
      "image/png": "[encoded data removed]",
      "text/plain": [
       "<Figure size 432x288 with 1 Axes>"
      ]
     },
     "metadata": {
      "needs_background": "light"
     },
     "output_type": "display_data"
    }
   ],
   "source": [
    "plt.hist(notas,bins=9,range=(10,100),color='green',alpha=0.5)\n",
    "plt.show"
   ]
  },
  {
   "cell_type": "code",
   "execution_count": 10,
   "metadata": {},
   "outputs": [
    {
     "data": {
      "text/plain": [
       "<matplotlib.axes._subplots.AxesSubplot at 0x7f2484051690>"
      ]
     },
     "execution_count": 10,
     "metadata": {},
     "output_type": "execute_result"
    },
    {
     "data": {
      "image/png": "[encoded data removed]",
      "text/plain": [
       "<Figure size 432x288 with 1 Axes>"
      ]
     },
     "metadata": {
      "needs_background": "light"
     },
     "output_type": "display_data"
    }
   ],
   "source": [
    "sns.distplot(notas)"
   ]
  },
  {
   "cell_type": "markdown",
   "metadata": {},
   "source": [
    "### Agrupe los datos en un tabla y calcule las medidas de resumen para la muestra y para la tabla construida."
   ]
  },
  {
   "cell_type": "markdown",
   "metadata": {},
   "source": [
    "#### Para la muestra"
   ]
  },
  {
   "cell_type": "code",
   "execution_count": 11,
   "metadata": {},
   "outputs": [
    {
     "name": "stdout",
     "output_type": "stream",
     "text": [
      "\n",
      " DescribeResult(nobs=60, minmax=(10, 98), mean=65.48333333333333, variance=446.6268361581921, skewness=-0.9290207912845316, kurtosis=0.1197570942470052) \n",
      " ModeResult(mode=array([74]), count=array([3])) \n",
      " 71.5\n",
      "54.5\n"
     ]
    }
   ],
   "source": [
    "print(\"\\n\",sp.describe(notas),\"\\n\",sp.mode(notas),\"\\n\",np.median(notas))\n",
    "\n",
    "print(np.percentile(notas,25,interpolation='midpoint'))"
   ]
  },
  {
   "cell_type": "markdown",
   "metadata": {},
   "source": [
    "### Construcción de la tabla para 9 clases"
   ]
  },
  {
   "cell_type": "code",
   "execution_count": 12,
   "metadata": {},
   "outputs": [],
   "source": [
    "table={}\n",
    "\n",
    "i=1\n",
    "while i != 10:\n",
    "    dic_aux={}\n",
    "    f_j=0\n",
    "    for j in notas:\n",
    "        if i*10<=j<=i*10+9:\n",
    "            f_j+=1\n",
    "    if i==1:\n",
    "        dic_aux['intervalo']='['+str(i*10)+'-'+str(i*10+10)+'['\n",
    "        dic_aux['marca_de_clase']=i*10+5\n",
    "        dic_aux['f_j']=f_j\n",
    "        dic_aux['F_j']=f_j\n",
    "        dic_aux['f_r']=f_j/len(notas)\n",
    "        dic_aux['F_r']=f_j/len(notas)\n",
    "        \n",
    "    elif i<9:\n",
    "        dic_aux['intervalo']='['+str(i*10)+'-'+str(i*10+10)+'['\n",
    "        dic_aux['marca_de_clase']=i*10+5\n",
    "        dic_aux['f_j']=f_j\n",
    "        dic_aux['F_j']=f_j+table[i-1]['F_j']\n",
    "        dic_aux['f_r']=f_j/len(notas)\n",
    "        dic_aux['F_r']=f_j/len(notas)+table[i-1]['F_r']\n",
    "    else:\n",
    "        dic_aux['intervalo']='['+str(i*10)+'-'+str(i*10+10)+']'\n",
    "        dic_aux['marca_de_clase']=i*10+5\n",
    "        dic_aux['f_j']=f_j\n",
    "        dic_aux['F_j']=f_j+table[i-1]['F_j']\n",
    "        dic_aux['f_r']=f_j/len(notas)\n",
    "        dic_aux['F_r']=f_j/len(notas)+table[i-1]['F_r']\n",
    "    table[i]=dic_aux\n",
    "    i+=1"
   ]
  },
  {
   "cell_type": "code",
   "execution_count": 13,
   "metadata": {},
   "outputs": [
    {
     "data": {
      "text/html": [
       "<div>\n",
       "<style scoped>\n",
       "    .dataframe tbody tr th:only-of-type {\n",
       "        vertical-align: middle;\n",
       "    }\n",
       "\n",
       "    .dataframe tbody tr th {\n",
       "        vertical-align: top;\n",
       "    }\n",
       "\n",
       "    .dataframe thead th {\n",
       "        text-align: right;\n",
       "    }\n",
       "</style>\n",
       "<table border=\"1\" class=\"dataframe\">\n",
       "  <thead>\n",
       "    <tr style=\"text-align: right;\">\n",
       "      <th></th>\n",
       "      <th>intervalo</th>\n",
       "      <th>marca_de_clase</th>\n",
       "      <th>f_j</th>\n",
       "      <th>F_j</th>\n",
       "      <th>f_r</th>\n",
       "      <th>F_r</th>\n",
       "    </tr>\n",
       "  </thead>\n",
       "  <tbody>\n",
       "    <tr>\n",
       "      <td>0</td>\n",
       "      <td>[10-20[</td>\n",
       "      <td>15</td>\n",
       "      <td>3</td>\n",
       "      <td>3</td>\n",
       "      <td>0.050000</td>\n",
       "      <td>0.050000</td>\n",
       "    </tr>\n",
       "    <tr>\n",
       "      <td>1</td>\n",
       "      <td>[20-30[</td>\n",
       "      <td>25</td>\n",
       "      <td>2</td>\n",
       "      <td>5</td>\n",
       "      <td>0.033333</td>\n",
       "      <td>0.083333</td>\n",
       "    </tr>\n",
       "    <tr>\n",
       "      <td>2</td>\n",
       "      <td>[30-40[</td>\n",
       "      <td>35</td>\n",
       "      <td>3</td>\n",
       "      <td>8</td>\n",
       "      <td>0.050000</td>\n",
       "      <td>0.133333</td>\n",
       "    </tr>\n",
       "    <tr>\n",
       "      <td>3</td>\n",
       "      <td>[40-50[</td>\n",
       "      <td>45</td>\n",
       "      <td>4</td>\n",
       "      <td>12</td>\n",
       "      <td>0.066667</td>\n",
       "      <td>0.200000</td>\n",
       "    </tr>\n",
       "    <tr>\n",
       "      <td>4</td>\n",
       "      <td>[50-60[</td>\n",
       "      <td>55</td>\n",
       "      <td>5</td>\n",
       "      <td>17</td>\n",
       "      <td>0.083333</td>\n",
       "      <td>0.283333</td>\n",
       "    </tr>\n",
       "    <tr>\n",
       "      <td>5</td>\n",
       "      <td>[60-70[</td>\n",
       "      <td>65</td>\n",
       "      <td>11</td>\n",
       "      <td>28</td>\n",
       "      <td>0.183333</td>\n",
       "      <td>0.466667</td>\n",
       "    </tr>\n",
       "    <tr>\n",
       "      <td>6</td>\n",
       "      <td>[70-80[</td>\n",
       "      <td>75</td>\n",
       "      <td>14</td>\n",
       "      <td>42</td>\n",
       "      <td>0.233333</td>\n",
       "      <td>0.700000</td>\n",
       "    </tr>\n",
       "    <tr>\n",
       "      <td>7</td>\n",
       "      <td>[80-90[</td>\n",
       "      <td>85</td>\n",
       "      <td>14</td>\n",
       "      <td>56</td>\n",
       "      <td>0.233333</td>\n",
       "      <td>0.933333</td>\n",
       "    </tr>\n",
       "    <tr>\n",
       "      <td>8</td>\n",
       "      <td>[90-100]</td>\n",
       "      <td>95</td>\n",
       "      <td>4</td>\n",
       "      <td>60</td>\n",
       "      <td>0.066667</td>\n",
       "      <td>1.000000</td>\n",
       "    </tr>\n",
       "  </tbody>\n",
       "</table>\n",
       "</div>"
      ],
      "text/plain": [
       "  intervalo  marca_de_clase  f_j  F_j       f_r       F_r\n",
       "0   [10-20[              15    3    3  0.050000  0.050000\n",
       "1   [20-30[              25    2    5  0.033333  0.083333\n",
       "2   [30-40[              35    3    8  0.050000  0.133333\n",
       "3   [40-50[              45    4   12  0.066667  0.200000\n",
       "4   [50-60[              55    5   17  0.083333  0.283333\n",
       "5   [60-70[              65   11   28  0.183333  0.466667\n",
       "6   [70-80[              75   14   42  0.233333  0.700000\n",
       "7   [80-90[              85   14   56  0.233333  0.933333\n",
       "8  [90-100]              95    4   60  0.066667  1.000000"
      ]
     },
     "execution_count": 13,
     "metadata": {},
     "output_type": "execute_result"
    }
   ],
   "source": [
    "df = pd.DataFrame([key for key in table.keys()], columns=['tallo'])\n",
    "df['intervalo'] = [value['intervalo'] for value in table.values()]\n",
    "df['marca_de_clase'] = [value['marca_de_clase'] for value in table.values()]\n",
    "df['f_j'] = [value['f_j'] for value in table.values()]\n",
    "df['F_j'] = [value['F_j'] for value in table.values()]\n",
    "df['f_r'] = [value['f_r'] for value in table.values()]\n",
    "df['F_r'] = [value['F_r'] for value in table.values()]\n",
    "df.drop('tallo',axis=1)"
   ]
  },
  {
   "cell_type": "code",
   "execution_count": 43,
   "metadata": {},
   "outputs": [],
   "source": [
    "def promedio(marca_de_clase,frecuencia_absoluta):\n",
    "    suma=0\n",
    "    n=0\n",
    "    for i in range(0,len(list(marca_de_clase))):\n",
    "        suma+=list(marca_de_clase)[i]*list(frecuencia_absoluta)[i]\n",
    "        n+=list(frecuencia_absoluta)[i]\n",
    "    return suma/n\n",
    "\n",
    "def var(marca_de_clase,frecuencia_absoluta):\n",
    "    suma=0\n",
    "    n=0\n",
    "    for i in range(0,len(marca_de_clase)):\n",
    "        suma+= marca_de_clase[i]*marca_de_clase[i]*frecuencia_absoluta[i]    \n",
    "    return suma-promedio(marca_de_clase,frecuencia_absoluta)**2\n",
    "\n",
    "def mo(marca_de_clase,frecuencia_absoluta):\n",
    "    pos=frecuencia_absoluta.index(max(frecuencia_absoluta))+1\n",
    "    return marca_de_clase[pos]+(frecuencia_absoluta[pos]-frecuencia_absoluta[pos-i])*10/(2*frecuencia_absoluta[pos]-frecuencia_absoluta[pos-1]+frecuencia_absoluta[pos+1])\n",
    "\n",
    "def me(marca_de_clase,frecuencia_absoluta,frecuencia_absoluta_acumulada):\n",
    "    for i in range(0,len(marca_de_clase)):\n",
    "        if frecuencia_absoluta_acumulada[i]>= frecuencia_absoluta_acumulada[len(marca_de_clase)-1]/2:\n",
    "            if frecuencia_absoluta_acumulada[i-1]< frecuencia_absoluta_acumulada[len(marca_de_clase)-1]/2:\n",
    "                pos=i\n",
    "        print()\n",
    "    \n",
    "    return marca_de_clase[pos]-5 +(frecuencia_absoluta_acumulada[len(marca_de_clase)-1]/2 - frecuencia_absoluta_acumulada[pos-1])/(frecuencia_absoluta[pos])\n"
   ]
  },
  {
   "cell_type": "code",
   "execution_count": 44,
   "metadata": {},
   "outputs": [
    {
     "data": {
      "text/plain": [
       "286877.75"
      ]
     },
     "execution_count": 44,
     "metadata": {},
     "output_type": "execute_result"
    }
   ],
   "source": [
    "#promedio(df['marca_de_clase'],df['f_j'])\n",
    "#mo(list(df['marca_de_clase']),list(df['f_j']))\n",
    "#me(list(df['marca_de_clase']),list(df['f_j']),list(df['F_j']))\n",
    "var(list(df['marca_de_clase']),list(df['f_j']))"
   ]
  },
  {
   "cell_type": "code",
   "execution_count": 16,
   "metadata": {},
   "outputs": [
    {
     "data": {
      "text/plain": [
       "array([54.75, 71.5 , 80.25])"
      ]
     },
     "execution_count": 16,
     "metadata": {},
     "output_type": "execute_result"
    }
   ],
   "source": [
    "np.quantile(notas, (.25, .50, .75))"
   ]
  }
 ],
 "metadata": {
  "kernelspec": {
   "display_name": "Python 3",
   "language": "python",
   "name": "python3"
  },
  "language_info": {
   "codemirror_mode": {
    "name": "ipython",
    "version": 3
   },
   "file_extension": ".py",
   "mimetype": "text/x-python",
   "name": "python",
   "nbconvert_exporter": "python",
   "pygments_lexer": "ipython3",
   "version": "3.7.6"
  }
 },
 "nbformat": 4,
 "nbformat_minor": 4
}
